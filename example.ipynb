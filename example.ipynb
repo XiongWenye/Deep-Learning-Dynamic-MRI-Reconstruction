{
 "cells": [
  {
   "cell_type": "code",
   "execution_count": null,
   "metadata": {},
   "outputs": [],
   "source": [
    "import math\n",
    "import numpy as np\n",
    "import torch\n",
    "import torchvision.utils\n",
    "from matplotlib import pyplot as plt\n",
    "from matplotlib.colors import Normalize\n",
    "from mpl_toolkits.axes_grid1 import make_axes_locatable\n",
    "from skimage.color import rgb2gray\n",
    "from skimage.metrics import structural_similarity"
   ]
  },
  {
   "cell_type": "code",
   "execution_count": null,
   "metadata": {},
   "outputs": [],
   "source": [
    "def imsshow(imgs, titles=None, num_col=5, dpi=100, cmap=None, is_colorbar=False, is_ticks=False):\n",
    "    '''\n",
    "    assume imgs's shape is (Nslice, Nx, Ny)\n",
    "    '''\n",
    "    num_imgs = len(imgs)\n",
    "    num_row = math.ceil(num_imgs / num_col)\n",
    "    fig_width = num_col * 3\n",
    "    if is_colorbar:\n",
    "        fig_width += num_col * 1.5\n",
    "    fig_height = num_row * 3\n",
    "    fig = plt.figure(dpi=dpi, figsize=(fig_width, fig_height))\n",
    "    for i in range(num_imgs):\n",
    "        ax = plt.subplot(num_row, num_col, i + 1)\n",
    "        im = ax.imshow(imgs[i], cmap=cmap)\n",
    "        if titles:\n",
    "            plt.title(titles[i])\n",
    "        if is_colorbar:\n",
    "            cax = fig.add_axes([ax.get_position().x1 + 0.01, ax.get_position().y0, 0.01, ax.get_position().height])\n",
    "            plt.colorbar(im, cax=cax)\n",
    "        if not is_ticks:\n",
    "            ax.set_xticks([])\n",
    "            ax.set_yticks([])\n",
    "    plt.show()\n",
    "    plt.close('all')"
   ]
  },
  {
   "cell_type": "markdown",
   "metadata": {},
   "source": [
    "## Dataset"
   ]
  },
  {
   "cell_type": "markdown",
   "metadata": {},
   "source": [
    "We select 200 cines from ACDC datasets, presented by a numpy array `(200, 20, 192, 192)`.\n",
    "\n",
    "Preprocessing steps:\n",
    "\n",
    "1. Discarded first and last 3 slices,\n",
    "2. Truncated time dimensions to 20,\n",
    "3. Croped and padded to 192x192,\n",
    "4. Min-max normalized on each dynamic image.\n",
    "\n",
    "Finally, we stacked all cines together, random permutated, selected first 200 cines.  "
   ]
  },
  {
   "cell_type": "code",
   "execution_count": null,
   "metadata": {},
   "outputs": [],
   "source": [
    "dataset = np.load('./cine.npz')['dataset']\n",
    "print(f\"The shape of dataset is {dataset.shape}.\")\n",
    "print(f\"The type of dataset is {dataset.dtype}.\")"
   ]
  },
  {
   "cell_type": "code",
   "execution_count": null,
   "metadata": {},
   "outputs": [],
   "source": [
    "# example cine\n",
    "CINE_INDEX = 100\n",
    "assert CINE_INDEX >= 0 and CINE_INDEX < 200\n",
    "cine = dataset[CINE_INDEX]\n",
    "print(f\"Cine's min: {cine.min()}, max: {cine.max()}\")\n",
    "imsshow(cine, num_col=5, cmap='gray', is_colorbar=True)"
   ]
  },
  {
   "cell_type": "markdown",
   "metadata": {},
   "source": [
    "## variable-density undersampling mask"
   ]
  },
  {
   "cell_type": "code",
   "execution_count": null,
   "metadata": {},
   "outputs": [],
   "source": [
    "from CS_mask import cartesian_mask\n",
    "\n",
    "mask = cartesian_mask(shape=(1, 20, 192, 192), acc=8, sample_n=10, centred=True)\n",
    "imsshow(mask[0, :, :, :], num_col=5, cmap='gray')"
   ]
  },
  {
   "cell_type": "code",
   "execution_count": null,
   "metadata": {},
   "outputs": [],
   "source": []
  }
 ],
 "metadata": {
  "interpreter": {
   "hash": "ab9b806f033a12391c85328926e35617421b7f2d1af42071048d50ac4407b2af"
  },
  "kernelspec": {
   "display_name": "Python 3 (ipykernel)",
   "language": "python",
   "name": "python3"
  },
  "language_info": {
   "codemirror_mode": {
    "name": "ipython",
    "version": 3
   },
   "file_extension": ".py",
   "mimetype": "text/x-python",
   "name": "python",
   "nbconvert_exporter": "python",
   "pygments_lexer": "ipython3",
   "version": "3.10.12"
  }
 },
 "nbformat": 4,
 "nbformat_minor": 2
}
